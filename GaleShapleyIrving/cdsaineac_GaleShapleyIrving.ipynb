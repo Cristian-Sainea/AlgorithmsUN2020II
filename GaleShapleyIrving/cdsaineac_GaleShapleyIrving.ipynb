{
  "nbformat": 4,
  "nbformat_minor": 0,
  "metadata": {
    "colab": {
      "name": "cdsaineac_GaleShapleyIrving.ipynb",
      "provenance": [],
      "collapsed_sections": []
    },
    "kernelspec": {
      "name": "python3",
      "display_name": "Python 3"
    }
  },
  "cells": [
    {
      "cell_type": "code",
      "metadata": {
        "id": "nAxsIm17XzCV"
      },
      "source": [
        "import math\n",
        "import pandas as pd\n",
        "import numpy as np\n",
        "import random\n",
        "from collections import Counter\n",
        "from copy import copy\n",
        "import matplotlib.pyplot as plt"
      ],
      "execution_count": null,
      "outputs": []
    },
    {
      "cell_type": "markdown",
      "metadata": {
        "id": "LJhDWpH20PJS"
      },
      "source": [
        "## Definiendo las funciones base"
      ]
    },
    {
      "cell_type": "code",
      "metadata": {
        "id": "M-9oLTHN6t0S"
      },
      "source": [
        "def bestCasesGS(N):\n",
        "\n",
        "  preferBS = []\n",
        "\n",
        "  # Woman list\n",
        "  preferW = [i+N for i in range(N)]\n",
        "  for i in range(N):\n",
        "    ax = preferW.pop(0)\n",
        "    preferW.append(ax)\n",
        "    preferBS.append(preferW[:])\n",
        "\n",
        "  # Man list\n",
        "  preferM = [i for i in range(N)]\n",
        "  for i in range(N):\n",
        "    ax = preferM.pop(0)\n",
        "    preferM.append(ax)\n",
        "    preferBS.append(preferM[:]) \n",
        "  return preferBS\n",
        "\n",
        "def worstCaseGS(N):\n",
        "  \n",
        "  preferS = []\n",
        "  \n",
        "  # Woman list\n",
        "  preferW = [i+N for i in range(N)]\n",
        "  preferS.append(preferW[:])\n",
        "  for i in range(N-1):\n",
        "    listaux = preferW[1:N-1]\n",
        "    elemaux = preferW[0]\n",
        "    preferW[N-2] = elemaux\n",
        "    preferW[0:N-2] = listaux[:]\n",
        "    preferS.append(preferW[:])\n",
        "  # Man list\n",
        "  preferM = [i for i in range(N)]\n",
        "  for i in range(N):\n",
        "    ax = preferM.pop(0)\n",
        "    preferM.append(ax)\n",
        "    preferS.append(preferM[:])\n",
        "  return preferS\n",
        "\n",
        "def wPrefersM1OverM(prefer, woman, man, man1, n): \n",
        "\n",
        "  N = n\n",
        "\t# Check if w prefers m over her \n",
        "  for i in range(N):\n",
        "\n",
        "\t\t# If m1 comes before m in list of w, then w prefers her current engagement\n",
        "    if (prefer[woman][i] == man1): \n",
        "      return True\n",
        "\n",
        "\t\t# If m comes before m1 in w's list, then free her current engagement\n",
        "    if (prefer[woman][i] == man): \n",
        "      return False\n",
        "  \n",
        "def stableMarriage(prefer, n): \n",
        "  N = n\n",
        "  \n",
        "  # Indicates the partner of w\n",
        "  wPartner = [-1 for i in range(N)] \n",
        "\n",
        "\t# An array to store availability of men\n",
        "  mFree = [False for i in range(N)] \n",
        "\n",
        "  freeCount = N \n",
        "\n",
        "  count = 0\n",
        "\n",
        "\t# While there are single men \n",
        "  while (freeCount > 0): \n",
        "    count += 1\n",
        "\n",
        "\t\t# First free man makes a proposal\n",
        "    m = 0\n",
        "    while (m < N): \n",
        "      if (mFree[m] == False): \n",
        "        break\n",
        "      m += 1\n",
        "\n",
        "    i = 0\n",
        "    while i < N and mFree[m] == False: \n",
        "      w = prefer[m][i] \n",
        "\n",
        "\t\t\t# The woman of preference is free, w and m get engagement\n",
        "      if (wPartner[w - N] == -1): \n",
        "        wPartner[w - N] = m \n",
        "        mFree[m] = True\n",
        "        freeCount -= 1\n",
        "\n",
        "      else: \t\n",
        "\t\t\t\t# If w is not free, find current engagement of w \n",
        "        m1 = wPartner[w - N] \n",
        "\n",
        "\t\t\t\t# If w prefers m over her current engagement m1, engage m with w. \n",
        "        if (wPrefersM1OverM(prefer, w, m, m1, N) == False): \n",
        "          wPartner[w - N] = m \n",
        "          mFree[m] = True\n",
        "          mFree[m1] = False\n",
        "      i += 1\n",
        "\n",
        "\t# Results\n",
        "  print(\"Iteraciones: \", count)\n",
        "  print(\"Mujeres \", \" Hombres\") \n",
        "  for i in range(N): \n",
        "    print(i + N, \"----------\", wPartner[i])"
      ],
      "execution_count": null,
      "outputs": []
    },
    {
      "cell_type": "markdown",
      "metadata": {
        "id": "a8LfJwFkazGy"
      },
      "source": [
        "## **1.** Hallando peor y mejor caso para n = 4 y n = 40 "
      ]
    },
    {
      "cell_type": "markdown",
      "metadata": {
        "id": "GHQnXJt19Rwk"
      },
      "source": [
        "* Cuando $n=4$ :"
      ]
    },
    {
      "cell_type": "markdown",
      "metadata": {
        "id": "eea3N9Fo9XRM"
      },
      "source": [
        "Peor Caso\n",
        " "
      ]
    },
    {
      "cell_type": "code",
      "metadata": {
        "colab": {
          "base_uri": "https://localhost:8080/"
        },
        "id": "n1gM_kEF9-Zi",
        "outputId": "1346b35b-6c10-4384-8ad4-bc2a36b4aea5"
      },
      "source": [
        "stableMarriage(worstCaseGS(4), 4)"
      ],
      "execution_count": null,
      "outputs": [
        {
          "output_type": "stream",
          "text": [
            "Iteraciones:  13\n",
            "Mujeres   Hombres\n",
            "4 ---------- 1\n",
            "5 ---------- 2\n",
            "6 ---------- 3\n",
            "7 ---------- 0\n"
          ],
          "name": "stdout"
        }
      ]
    },
    {
      "cell_type": "markdown",
      "metadata": {
        "id": "uDCNN5gR_Mqd"
      },
      "source": [
        "*Mejor caso*"
      ]
    },
    {
      "cell_type": "code",
      "metadata": {
        "colab": {
          "base_uri": "https://localhost:8080/"
        },
        "id": "emb73Deg_Urj",
        "outputId": "99d0444f-ab5f-4948-a056-93f7bb1a114c"
      },
      "source": [
        "stableMarriage(bestCasesGS(4), 4)"
      ],
      "execution_count": null,
      "outputs": [
        {
          "output_type": "stream",
          "text": [
            "Iteraciones:  4\n",
            "Mujeres   Hombres\n",
            "4 ---------- 3\n",
            "5 ---------- 0\n",
            "6 ---------- 1\n",
            "7 ---------- 2\n"
          ],
          "name": "stdout"
        }
      ]
    },
    {
      "cell_type": "markdown",
      "metadata": {
        "id": "lqNLQF09_TiM"
      },
      "source": [
        "* Cuando $n=40$:"
      ]
    },
    {
      "cell_type": "markdown",
      "metadata": {
        "id": "rNG0cg8i_0r6"
      },
      "source": [
        "*Peor caso*"
      ]
    },
    {
      "cell_type": "code",
      "metadata": {
        "colab": {
          "base_uri": "https://localhost:8080/"
        },
        "id": "jMkLiMJr_qCL",
        "outputId": "4a3ca8b6-ced5-4895-bb78-8eeeaca07dfa"
      },
      "source": [
        "print(\"Worst case is: O(n) = n(n-1)+1 =\", 40*(40-1)+1)\n",
        "stableMarriage(worstCaseGS(40), 40)"
      ],
      "execution_count": null,
      "outputs": [
        {
          "output_type": "stream",
          "text": [
            "Worst case is: O(n) = n(n-1)+1 = 1561\n",
            "Iteraciones:  1561\n",
            "Mujeres   Hombres\n",
            "40 ---------- 1\n",
            "41 ---------- 2\n",
            "42 ---------- 3\n",
            "43 ---------- 4\n",
            "44 ---------- 5\n",
            "45 ---------- 6\n",
            "46 ---------- 7\n",
            "47 ---------- 8\n",
            "48 ---------- 9\n",
            "49 ---------- 10\n",
            "50 ---------- 11\n",
            "51 ---------- 12\n",
            "52 ---------- 13\n",
            "53 ---------- 14\n",
            "54 ---------- 15\n",
            "55 ---------- 16\n",
            "56 ---------- 17\n",
            "57 ---------- 18\n",
            "58 ---------- 19\n",
            "59 ---------- 20\n",
            "60 ---------- 21\n",
            "61 ---------- 22\n",
            "62 ---------- 23\n",
            "63 ---------- 24\n",
            "64 ---------- 25\n",
            "65 ---------- 26\n",
            "66 ---------- 27\n",
            "67 ---------- 28\n",
            "68 ---------- 29\n",
            "69 ---------- 30\n",
            "70 ---------- 31\n",
            "71 ---------- 32\n",
            "72 ---------- 33\n",
            "73 ---------- 34\n",
            "74 ---------- 35\n",
            "75 ---------- 36\n",
            "76 ---------- 37\n",
            "77 ---------- 38\n",
            "78 ---------- 39\n",
            "79 ---------- 0\n"
          ],
          "name": "stdout"
        }
      ]
    },
    {
      "cell_type": "markdown",
      "metadata": {
        "id": "fwWb5NmS_xDF"
      },
      "source": [
        "*Mejor caso*"
      ]
    },
    {
      "cell_type": "code",
      "metadata": {
        "colab": {
          "base_uri": "https://localhost:8080/"
        },
        "id": "sAjN0IEQ_7l7",
        "outputId": "2fde8d78-022d-4b20-b15e-2ce0236ba4bd"
      },
      "source": [
        "stableMarriage(bestCasesGS(40), 40)"
      ],
      "execution_count": null,
      "outputs": [
        {
          "output_type": "stream",
          "text": [
            "Iteraciones:  40\n",
            "Mujeres   Hombres\n",
            "40 ---------- 39\n",
            "41 ---------- 0\n",
            "42 ---------- 1\n",
            "43 ---------- 2\n",
            "44 ---------- 3\n",
            "45 ---------- 4\n",
            "46 ---------- 5\n",
            "47 ---------- 6\n",
            "48 ---------- 7\n",
            "49 ---------- 8\n",
            "50 ---------- 9\n",
            "51 ---------- 10\n",
            "52 ---------- 11\n",
            "53 ---------- 12\n",
            "54 ---------- 13\n",
            "55 ---------- 14\n",
            "56 ---------- 15\n",
            "57 ---------- 16\n",
            "58 ---------- 17\n",
            "59 ---------- 18\n",
            "60 ---------- 19\n",
            "61 ---------- 20\n",
            "62 ---------- 21\n",
            "63 ---------- 22\n",
            "64 ---------- 23\n",
            "65 ---------- 24\n",
            "66 ---------- 25\n",
            "67 ---------- 26\n",
            "68 ---------- 27\n",
            "69 ---------- 28\n",
            "70 ---------- 29\n",
            "71 ---------- 30\n",
            "72 ---------- 31\n",
            "73 ---------- 32\n",
            "74 ---------- 33\n",
            "75 ---------- 34\n",
            "76 ---------- 35\n",
            "77 ---------- 36\n",
            "78 ---------- 37\n",
            "79 ---------- 38\n"
          ],
          "name": "stdout"
        }
      ]
    },
    {
      "cell_type": "markdown",
      "metadata": {
        "id": "YSk7bqmA-1iq"
      },
      "source": [
        "# **2.** Corriendo el algoritmo 100 veces par n= 4 y n = 40."
      ]
    },
    {
      "cell_type": "code",
      "metadata": {
        "id": "WoyIEkKP9OR7"
      },
      "source": [
        "def GaleShapley(n):\n",
        "\n",
        "  step_count=[]\n",
        "  \n",
        "  # Gale-Sahpley Algoritm 100 times\n",
        "  \n",
        "  for t in range(100): \n",
        "\n",
        "    # Choosing man and woman\n",
        "    man=[random.sample(list(range(1,n+1)),n) for i in range(n)]\n",
        "    woman=[random.sample(list(range(1,n+1)),n) for i in range(n)]\n",
        "\n",
        "    # Man's and woman's list\n",
        "    man_list = list(range(1,n+1))\n",
        "    woman_list = list(range(n+1,n*2+1))\n",
        "\n",
        "    # For dataframes\n",
        "    col=list(range(n+1,n*2+1))\n",
        "    ind=list(range(1,n+1))\n",
        "\n",
        "    # Woman's and man's dataframe\n",
        "    woman_df = pd.DataFrame({col[i]:woman[i] for i in range(n)},index=ind) \n",
        "    man_df = pd.DataFrame(man,columns=col,index=ind) \n",
        "\n",
        "    # Available woman list\n",
        "    woman_available = {man:woman_list for man in man_list}\n",
        "\n",
        "    # Waiting list\n",
        "    waiting_list = []\n",
        "\n",
        "    # Proposal's amount\n",
        "    proposals = {}\n",
        "    count = 0\n",
        "\n",
        "    # While there are single man\n",
        "    while len(waiting_list) < len(man_list):\n",
        "\n",
        "      for man in man_list:\n",
        "        \n",
        "        # For each men single a proposal is made\n",
        "        if man not in waiting_list:\n",
        "            \n",
        "          women = woman_available[man]\n",
        "          best_choice = man_df.loc[man][man_df.loc[man].index.isin(women)].idxmin()\n",
        "          \n",
        "          # Proposal's amount          \n",
        "          proposals[(man, best_choice)]=(man_df.loc[man][best_choice],woman_df.loc[man][best_choice])\n",
        "\n",
        "      overlays = Counter([key[1] for key in proposals.keys()])\n",
        "\n",
        "      for women in overlays.keys():\n",
        "\n",
        "        # For each women we see her proposal and take the optimal \n",
        "        if overlays[women] > 1:\n",
        "\n",
        "          # Remove other m\n",
        "          pairs_to_drop = sorted({pair: proposals[pair] for pair in proposals.keys() if women in pair}.items(), key=lambda x: x[1][1])[1:]\n",
        "\n",
        "          # Remove w form available list\n",
        "          for p_to_drop in pairs_to_drop:\n",
        "            del proposals[p_to_drop[0]]\n",
        "            _women = copy(woman_available[p_to_drop[0][0]])\n",
        "            _women.remove(p_to_drop[0][1])\n",
        "            woman_available[p_to_drop[0][0]] = _women\n",
        "\n",
        "      waiting_list = [man[0] for man in proposals.keys()]\n",
        "\n",
        "      count += 1\n",
        "\n",
        "    step_count.append(count)\n",
        "\n",
        "  # Plot the histogram\n",
        "  plt.hist(step_count, bins=max(step_count)-min(step_count))\n",
        "  plt.xlabel('Dias')\n",
        "  plt.ylabel('Frecuencia')\n",
        "  plt.title(\"Histograma\")\n",
        "  plt.show()\n",
        "  print(\"Numero Maximo de dias: \",max(step_count))\n",
        "  print(\"Numero Minimo de dias: \",min(step_count))\n",
        "  print(\"Promedio de Dias: \",sum(step_count)/len(step_count))"
      ],
      "execution_count": null,
      "outputs": []
    },
    {
      "cell_type": "markdown",
      "metadata": {
        "id": "9UPtQi5I--iq"
      },
      "source": [
        "* Cuando $n=4$:"
      ]
    },
    {
      "cell_type": "code",
      "metadata": {
        "id": "8MuRZpFI74cW",
        "colab": {
          "base_uri": "https://localhost:8080/",
          "height": 346
        },
        "outputId": "3a2ecd40-08dd-46d3-89a6-49e1184f88be"
      },
      "source": [
        "GaleShapley(4)"
      ],
      "execution_count": null,
      "outputs": [
        {
          "output_type": "display_data",
          "data": {
            "image/png": "[encoded data removed]",
            "text/plain": [
              "<Figure size 432x288 with 1 Axes>"
            ]
          },
          "metadata": {
            "tags": [],
            "needs_background": "light"
          }
        },
        {
          "output_type": "stream",
          "text": [
            "Numero Maximo de dias:  8\n",
            "Numero Minimo de dias:  1\n",
            "Promedio de Dias:  3.1\n"
          ],
          "name": "stdout"
        }
      ]
    },
    {
      "cell_type": "markdown",
      "metadata": {
        "id": "KmXPgjEj_EZb"
      },
      "source": [
        "* For $n=40$ we have:"
      ]
    },
    {
      "cell_type": "code",
      "metadata": {
        "id": "c84T_tFD77I_",
        "colab": {
          "base_uri": "https://localhost:8080/",
          "height": 346
        },
        "outputId": "4c651ed8-067b-4d9e-a0f9-613feb25a0b1"
      },
      "source": [
        "GaleShapley(40)"
      ],
      "execution_count": null,
      "outputs": [
        {
          "output_type": "display_data",
          "data": {
            "image/png": "[encoded data removed]",
            "text/plain": [
              "<Figure size 432x288 with 1 Axes>"
            ]
          },
          "metadata": {
            "tags": [],
            "needs_background": "light"
          }
        },
        {
          "output_type": "stream",
          "text": [
            "Numero Maximo de dias:  212\n",
            "Numero Minimo de dias:  10\n",
            "Promedio de Dias:  50.1\n"
          ],
          "name": "stdout"
        }
      ]
    },
    {
      "cell_type": "markdown",
      "metadata": {
        "id": "1hefXggl85qf"
      },
      "source": [
        "# References\n",
        "\n",
        "* Geeks and Geeks https://www.geeksforgeeks.org/stable-marriage-problem/"
      ]
    }
  ]
}