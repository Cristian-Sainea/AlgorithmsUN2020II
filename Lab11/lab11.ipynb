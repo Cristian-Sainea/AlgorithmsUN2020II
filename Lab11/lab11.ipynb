{
  "nbformat": 4,
  "nbformat_minor": 0,
  "metadata": {
    "colab": {
      "name": "lab11.ipynb",
      "provenance": []
    },
    "kernelspec": {
      "name": "python3",
      "display_name": "Python 3"
    }
  },
  "cells": [
    {
      "cell_type": "markdown",
      "metadata": {
        "id": "dKv_awTSbzR5"
      },
      "source": [
        "# **Lab #11**"
      ]
    },
    {
      "cell_type": "markdown",
      "metadata": {
        "id": "tmkF2Si0Z7Z9"
      },
      "source": [
        "###Solve  Problem A – Ehab and another construction problem  from Complete Search in Vjudge and in Colab"
      ]
    },
    {
      "cell_type": "code",
      "metadata": {
        "id": "6lWT0tGyW_vW",
        "colab": {
          "base_uri": "https://localhost:8080/"
        },
        "outputId": "f3813c78-88de-40d3-b3f0-ca9410d66886"
      },
      "source": [
        "#Using brute force\r\n",
        "x=int(input())\r\n",
        "for a in range(1,x+1):\r\n",
        "    for b in range(1,x+1):\r\n",
        "        if(a%b==0 and a*b > x and a/b < x):\r\n",
        "            print(str(a)+\" \"+str(b))\r\n",
        "            exit()\r\n",
        "print(-1)"
      ],
      "execution_count": 4,
      "outputs": [
        {
          "output_type": "stream",
          "text": [
            "10\n",
            "4 4\n",
            "5 5\n",
            "6 2\n",
            "6 3\n",
            "6 6\n",
            "7 7\n",
            "8 2\n",
            "8 4\n",
            "8 8\n",
            "9 3\n",
            "9 9\n",
            "10 2\n",
            "10 5\n",
            "10 10\n",
            "-1\n"
          ],
          "name": "stdout"
        }
      ]
    },
    {
      "cell_type": "code",
      "metadata": {
        "id": "Z_XEX2F-aOuZ",
        "colab": {
          "base_uri": "https://localhost:8080/"
        },
        "outputId": "cc97ce27-3500-48cc-d187-48389cdabdf5"
      },
      "source": [
        "# Best Search\r\n",
        "x=int(input())\r\n",
        "for a in range(1,x+1):\r\n",
        "    for b in range(1,a+1):\r\n",
        "        if(a%b==0 and a*b > x and a/b < x):\r\n",
        "            print(str(a)+\" \"+str(b))\r\n",
        "            exit()\r\n",
        "print(-1)"
      ],
      "execution_count": 5,
      "outputs": [
        {
          "output_type": "stream",
          "text": [
            "10\n",
            "4 4\n",
            "5 5\n",
            "6 2\n",
            "6 3\n",
            "6 6\n",
            "7 7\n",
            "8 2\n",
            "8 4\n",
            "8 8\n",
            "9 3\n",
            "9 9\n",
            "10 2\n",
            "10 5\n",
            "10 10\n",
            "-1\n"
          ],
          "name": "stdout"
        }
      ]
    },
    {
      "cell_type": "code",
      "metadata": {
        "id": "AbyxaqLDaz6U",
        "colab": {
          "base_uri": "https://localhost:8080/"
        },
        "outputId": "7895e51e-1e87-4f2f-b61f-5ec56d0a0707"
      },
      "source": [
        "#Using the two one step forms\r\n",
        "\r\n",
        "x = int(input())\r\n",
        "if x <= 1:\r\n",
        "  print(-1)\r\n",
        "else:\r\n",
        "  print(str(x//2 + 2 if (x//2 + 1) % 2 else  x//2 + 1 )+\" \"+str(2))"
      ],
      "execution_count": 1,
      "outputs": [
        {
          "output_type": "stream",
          "text": [
            "10\n",
            "6 2\n"
          ],
          "name": "stdout"
        }
      ]
    },
    {
      "cell_type": "markdown",
      "metadata": {
        "id": "j0QuSt5YloMG"
      },
      "source": [
        "<img src=\"https://raw.githubusercontent.com/cdsaineac/AlgorithmsUN2020II/master//Lab11/Screenshot.JPG\" />\r\n",
        "\r\n",
        "https://github.com/cdsaineac/AlgorithmsUN2020II/blob/master/Lab11/Screenshot.JPG"
      ]
    },
    {
      "cell_type": "markdown",
      "metadata": {
        "id": "7i9p3rfa0peC"
      },
      "source": [
        "#Solve the Subset Sum Problem"
      ]
    },
    {
      "cell_type": "code",
      "metadata": {
        "id": "FIxb6mrMXfzs"
      },
      "source": [
        "import itertools\r\n",
        "import random\r\n",
        "#from decorators import timeout\r\n",
        "#@timeout(5 * 60)\r\n",
        "\r\n",
        "def bruteforce(x_list, target):\r\n",
        "    possiblities = []\r\n",
        "    for x in powerset(x_list):\r\n",
        "        possiblities.append((x, sum(x)))\r\n",
        "\r\n",
        "    x_list, actual_value = closest(possiblities, target)\r\n",
        "\r\n",
        "    return (actual_value, x_list)\r\n",
        "\r\n",
        "\r\n",
        "def powerset(iterable):\r\n",
        "    '''powerset([1,2,3]) --> () (1,) (2,) (3,) (1,2) (1,3) (2,3) (1,2,3)\r\n",
        "    http://docs.python.org/library/itertools.html#recipes\r\n",
        "    '''\r\n",
        "    s = list(iterable)\r\n",
        "    return itertools.chain.from_iterable(itertools.combinations(s, r) for r in range(len(s) + 1))\r\n",
        "\r\n",
        "\r\n",
        "def closest(possiblities, target):\r\n",
        "    '''Modified from http://stackoverflow.com/questions/445782/finding-closest-match-in-collection-of-numbers/445824#445824'''\r\n",
        "    return min((abs(target - total), (o_list, total)) for o_list, total in possiblities)[1]"
      ],
      "execution_count": 1,
      "outputs": []
    },
    {
      "cell_type": "markdown",
      "metadata": {
        "id": "lIXsWZwBYwOm"
      },
      "source": [
        "For n=10,20,30,50,100,1000 and report when in Colab you run out of memory"
      ]
    },
    {
      "cell_type": "code",
      "metadata": {
        "colab": {
          "base_uri": "https://localhost:8080/"
        },
        "id": "X1sVRWw3Xw16",
        "outputId": "172b352c-aac9-4335-e483-233acaf6c6b5"
      },
      "source": [
        "#print(list(range(1,5)))\r\n",
        "for n in [10, 20, 30, 50, 100, 1000]:\r\n",
        "  lista = list(range(1,n+1))\r\n",
        "  target = n//2\r\n",
        "  random.shuffle(lista)\r\n",
        "  print(\"Brute force for n = \",n)\r\n",
        "  _, ans = bruteforce(lista,target)\r\n",
        "  print(\"answer is: \",ans)"
      ],
      "execution_count": null,
      "outputs": [
        {
          "output_type": "stream",
          "text": [
            "Brute force for n =  10\n",
            "answer is:  (1, 4)\n",
            "Brute force for n =  20\n",
            "answer is:  (2, 1, 7)\n",
            "Brute force for n =  30\n"
          ],
          "name": "stdout"
        }
      ]
    },
    {
      "cell_type": "markdown",
      "metadata": {
        "id": "opr0Dgzc6608"
      },
      "source": [
        "Colab run out of memory when n = 30"
      ]
    },
    {
      "cell_type": "markdown",
      "metadata": {
        "id": "kNB7vq4U7y-H"
      },
      "source": [
        "#Solve the eight queens problem in colab"
      ]
    },
    {
      "cell_type": "code",
      "metadata": {
        "id": "JpRNt3hCcNtd"
      },
      "source": [
        "import numpy as np\r\n",
        "  \r\n",
        "def queens(n):\r\n",
        "  column = np.zeros(n)\r\n",
        "  diag1 = np.zeros(2*n-1)\r\n",
        "  diag2 = np.zeros(2*n-1)\r\n",
        "  ans = [0]\r\n",
        "  def search(y):\r\n",
        "    if y == n:\r\n",
        "      ans[0] += 1\r\n",
        "      return\r\n",
        "    for x in range(n):\r\n",
        "      if column[x] or diag1[x+y] or diag2[x-y+n-1]:\r\n",
        "        continue\r\n",
        "      column[x] = diag1[x+y] = diag2[x-y+n-1] = 1\r\n",
        "      search(y+1)\r\n",
        "      column[x] = diag1[x+y] = diag2[x-y+n-1] = 0\r\n",
        "  search(0)\r\n",
        "  return ans[0]"
      ],
      "execution_count": 3,
      "outputs": []
    },
    {
      "cell_type": "code",
      "metadata": {
        "colab": {
          "base_uri": "https://localhost:8080/"
        },
        "id": "ntDWYssR__w0",
        "outputId": "8803b7ef-cfa5-4618-ba7c-9f7d89f37474"
      },
      "source": [
        "print(queens(8))"
      ],
      "execution_count": 4,
      "outputs": [
        {
          "output_type": "stream",
          "text": [
            "92\n"
          ],
          "name": "stdout"
        }
      ]
    }
  ]
}