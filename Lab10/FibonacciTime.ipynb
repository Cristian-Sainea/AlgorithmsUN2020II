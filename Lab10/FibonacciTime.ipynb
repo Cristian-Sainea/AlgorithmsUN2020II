{
  "nbformat": 4,
  "nbformat_minor": 0,
  "metadata": {
    "colab": {
      "name": "FibonacciTime.ipynb",
      "provenance": []
    },
    "kernelspec": {
      "name": "python3",
      "display_name": "Python 3"
    }
  },
  "cells": [
    {
      "cell_type": "markdown",
      "metadata": {
        "id": "dKv_awTSbzR5"
      },
      "source": [
        "# **Lab #10**"
      ]
    },
    {
      "cell_type": "markdown",
      "metadata": {
        "id": "gQf9HgvkbzCo"
      },
      "source": [
        "### 2. Plot of the recursive Fibonacci time [0,50] and the iterative Fibonacci time [0,500] including the line y=n to compare in a Colab notebook and upload the notebook in FibonacciTime.ipynb in the group’s github."
      ]
    },
    {
      "cell_type": "code",
      "metadata": {
        "id": "E8h4jeDbbxoh"
      },
      "source": [
        "from time import time\r\n",
        "\r\n",
        "def fib_recursive(n):\r\n",
        "  if (n==0 or n==1):\r\n",
        "    return n\r\n",
        "  else:\r\n",
        "    return fib_recursive(n-1) + fib_recursive(n-2)\r\n",
        "  \r\n",
        "def calc_time(n):\r\n",
        "  start = time()\r\n",
        "  num = fib_recursive(n)\r\n",
        "  interval = time() - start\r\n",
        "  return interval"
      ],
      "execution_count": 4,
      "outputs": []
    },
    {
      "cell_type": "code",
      "metadata": {
        "id": "VddqVq1EcCeq"
      },
      "source": [
        "import matplotlib.pyplot as plt\r\n",
        "import numpy as np\r\n",
        "from timeit import timeit\r\n",
        "\r\n",
        "times = np.arange(50)\r\n",
        "for i in range(len(times)):\r\n",
        "  times[i] = calc_time(i)\r\n",
        "x = np.arange(0,50)\r\n",
        "y = x\r\n",
        "plt.plot(x,y)\r\n",
        "plt.plot(x,times)\r\n",
        "plt.show()"
      ],
      "execution_count": null,
      "outputs": []
    },
    {
      "cell_type": "code",
      "metadata": {
        "id": "fmkve4DXcKvW"
      },
      "source": [
        "from time import time\r\n",
        "\r\n",
        "def fib_iterative(n):\r\n",
        "  results = []\r\n",
        "  siguiente = 1\r\n",
        "  actual = 0\r\n",
        "  temporal = 0\r\n",
        "  for i in range(1,n):\r\n",
        "    temporal = actual\r\n",
        "    actual = siguiente\r\n",
        "    siguiente= siguiente + temporal\r\n",
        "  return results\r\n",
        "\r\n",
        "def calc_time_iterative(n):\r\n",
        "  start = time()\r\n",
        "  num = fib_iterative(n)\r\n",
        "  interval = time() - start\r\n",
        "  return interval"
      ],
      "execution_count": 5,
      "outputs": []
    },
    {
      "cell_type": "code",
      "metadata": {
        "id": "V_qPDH4mcM01",
        "colab": {
          "base_uri": "https://localhost:8080/",
          "height": 295
        },
        "outputId": "cff3e2dd-7872-44f4-b909-aa013c44c551"
      },
      "source": [
        "import numpy as np\r\n",
        "from timeit import timeit\r\n",
        "\r\n",
        "times = np.arange(50)\r\n",
        "for i in range(len(times)):\r\n",
        "  times[i] = calc_time_iterative(i)\r\n",
        "x = np.arange(0,50)\r\n",
        "y = x\r\n",
        "plt.plot(x,y, color=\"green\")\r\n",
        "plt.plot(x,times, color = \"Orange\")\r\n",
        "plt.xlabel('n')\r\n",
        "plt.ylabel('Tiempo de ejecución')\r\n",
        "plt.title('Tiempo de ejecución sucesión de Fibonacci iterativo')\r\n",
        "plt.show()"
      ],
      "execution_count": 9,
      "outputs": [
        {
          "output_type": "display_data",
          "data": {
            "image/png": "[encoded data removed]",
            "text/plain": [
              "<Figure size 432x288 with 1 Axes>"
            ]
          },
          "metadata": {
            "tags": [],
            "needs_background": "light"
          }
        }
      ]
    },
    {
      "cell_type": "code",
      "metadata": {
        "id": "bCyjYMTHmv2l"
      },
      "source": [
        ""
      ],
      "execution_count": null,
      "outputs": []
    }
  ]
}