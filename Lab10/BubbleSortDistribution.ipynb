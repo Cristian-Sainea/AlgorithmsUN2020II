{
  "nbformat": 4,
  "nbformat_minor": 0,
  "metadata": {
    "colab": {
      "name": "BubbleSortDistribution.ipynb",
      "provenance": [],
      "collapsed_sections": []
    },
    "kernelspec": {
      "name": "python3",
      "display_name": "Python 3"
    }
  },
  "cells": [
    {
      "cell_type": "markdown",
      "metadata": {
        "id": "9-kFoo5ZP9UD"
      },
      "source": [
        "# **Lab #10**\r\n",
        "\r\n",
        "\r\n",
        "\r\n",
        "\r\n"
      ]
    },
    {
      "cell_type": "markdown",
      "metadata": {
        "id": "WkREiXwtP64w"
      },
      "source": [
        "\r\n",
        "\r\n",
        "### 1.   Reproduce the Bubble Sort (optimized – stops if in a round does not do swaps) time distribution calculated in ungrid in a Colab notebook using permutations from itertools and histogram from matplotlib and upload the notebook in BubbleSortDistribution.ipynb in the group’s github.\r\n",
        "\r\n",
        "\r\n"
      ]
    },
    {
      "cell_type": "code",
      "metadata": {
        "id": "8PDeQIY6MfrG"
      },
      "source": [
        "from itertools import permutations\r\n",
        "import matplotlib.pyplot as plt\r\n",
        "\r\n",
        "def bubble_sort(array):\r\n",
        "  flag = False\r\n",
        "  total = 0\r\n",
        "  for i in range(len(array)):\r\n",
        "    if flag : break\r\n",
        "    flag = True\r\n",
        "    for j in range(len(array) - i - 1):\r\n",
        "      if array[j] > array[j + 1] :\r\n",
        "        total += 1\r\n",
        "        flag = False\r\n",
        "        array[j], array[j + 1] = array[j + 1], array[j]\r\n",
        "  return total\r\n",
        "\r\n",
        "def calculate_distribution(n):\r\n",
        "  dist = []\r\n",
        "  max = 0\r\n",
        "  for i in range(n*n):\r\n",
        "    dist.append(0)\r\n",
        "  for p in permutations(list(range(1, n + 1))):\r\n",
        "    steps = bubble_sort(list(p))\r\n",
        "    if steps > max : max = steps\r\n",
        "    dist[steps] += 1\r\n",
        "  return dist[:max + 1]"
      ],
      "execution_count": 1,
      "outputs": []
    },
    {
      "cell_type": "code",
      "metadata": {
        "colab": {
          "base_uri": "https://localhost:8080/",
          "height": 297
        },
        "id": "yRNYusGHYdda",
        "outputId": "e9cb164d-3b7a-4b73-eb06-15990286af6e"
      },
      "source": [
        "n = 3\r\n",
        "dist = calculate_distribution(n)\r\n",
        "print(dist)\r\n",
        "plt.title(\"Grafica para: \" + str(n) + \" datos\")\r\n",
        "plt.bar(list(range(len(dist))), dist, 0.85, align='edge', color =\"orange\")\r\n",
        "plt.show()"
      ],
      "execution_count": 2,
      "outputs": [
        {
          "output_type": "stream",
          "text": [
            "[1, 2, 2, 1]\n"
          ],
          "name": "stdout"
        },
        {
          "output_type": "display_data",
          "data": {
            "image/png": "[encoded data removed]",
            "text/plain": [
              "<Figure size 432x288 with 1 Axes>"
            ]
          },
          "metadata": {
            "tags": [],
            "needs_background": "light"
          }
        }
      ]
    },
    {
      "cell_type": "code",
      "metadata": {
        "colab": {
          "base_uri": "https://localhost:8080/",
          "height": 297
        },
        "id": "J1xsP4cdZEGg",
        "outputId": "9f34e9ea-8595-43ac-886c-965e61988288"
      },
      "source": [
        "n = 4\r\n",
        "dist = calculate_distribution(n)\r\n",
        "print(dist)\r\n",
        "plt.title(\"Grafica para: \" + str(n) + \" datos\")\r\n",
        "plt.bar(list(range(len(dist))), dist, 0.85, align='edge', color =\"orange\")\r\n",
        "plt.show()"
      ],
      "execution_count": 3,
      "outputs": [
        {
          "output_type": "stream",
          "text": [
            "[1, 3, 5, 6, 5, 3, 1]\n"
          ],
          "name": "stdout"
        },
        {
          "output_type": "display_data",
          "data": {
            "image/png": "[encoded data removed]",
            "text/plain": [
              "<Figure size 432x288 with 1 Axes>"
            ]
          },
          "metadata": {
            "tags": [],
            "needs_background": "light"
          }
        }
      ]
    },
    {
      "cell_type": "code",
      "metadata": {
        "colab": {
          "base_uri": "https://localhost:8080/",
          "height": 297
        },
        "id": "hmfKVBNuZKHJ",
        "outputId": "45e862dc-2537-4b4d-e887-592336c7a892"
      },
      "source": [
        "n = 5\r\n",
        "dist = calculate_distribution(n)\r\n",
        "print(dist)\r\n",
        "plt.title(\"Grafica para: \" + str(n) + \" datos\")\r\n",
        "plt.bar(list(range(len(dist))), dist, 0.85, align='edge', color =\"orange\")\r\n",
        "plt.show()"
      ],
      "execution_count": 4,
      "outputs": [
        {
          "output_type": "stream",
          "text": [
            "[1, 4, 9, 15, 20, 22, 20, 15, 9, 4, 1]\n"
          ],
          "name": "stdout"
        },
        {
          "output_type": "display_data",
          "data": {
            "image/png": "[encoded data removed]",
            "text/plain": [
              "<Figure size 432x288 with 1 Axes>"
            ]
          },
          "metadata": {
            "tags": [],
            "needs_background": "light"
          }
        }
      ]
    },
    {
      "cell_type": "code",
      "metadata": {
        "colab": {
          "base_uri": "https://localhost:8080/",
          "height": 317
        },
        "id": "Ae7rCWdbZR6j",
        "outputId": "177963b8-9284-44b3-ec42-381f564b9dae"
      },
      "source": [
        "n = 10\r\n",
        "dist = calculate_distribution(n)\r\n",
        "print(dist)\r\n",
        "plt.title(\"Grafica para: \" + str(n) + \" datos\")\r\n",
        "plt.bar(list(range(len(dist))), dist, 0.85, align='edge', color =\"orange\")\r\n",
        "plt.show()"
      ],
      "execution_count": 5,
      "outputs": [
        {
          "output_type": "stream",
          "text": [
            "[1, 9, 44, 155, 440, 1068, 2298, 4489, 8095, 13640, 21670, 32683, 47043, 64889, 86054, 110010, 135853, 162337, 187959, 211089, 230131, 243694, 250749, 250749, 243694, 230131, 211089, 187959, 162337, 135853, 110010, 86054, 64889, 47043, 32683, 21670, 13640, 8095, 4489, 2298, 1068, 440, 155, 44, 9, 1]\n"
          ],
          "name": "stdout"
        },
        {
          "output_type": "display_data",
          "data": {
            "image/png": "[encoded data removed]",
            "text/plain": [
              "<Figure size 432x288 with 1 Axes>"
            ]
          },
          "metadata": {
            "tags": [],
            "needs_background": "light"
          }
        }
      ]
    }
  ]
}